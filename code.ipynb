{
 "cells": [
  {
   "cell_type": "code",
   "execution_count": 1,
   "id": "3bed02ca",
   "metadata": {},
   "outputs": [],
   "source": [
    "import pandas as pd\n",
    "import numpy as np\n",
    "from sklearn.model_selection import train_test_split\n",
    "from sklearn.preprocessing import StandardScaler\n",
    "from sklearn.linear_model import LogisticRegression\n",
    "from sklearn.tree import DecisionTreeClassifier\n",
    "from sklearn.ensemble import RandomForestClassifier\n",
    "from sklearn.neighbors import KNeighborsClassifier\n",
    "from sklearn.svm import SVC\n",
    "from sklearn.metrics import accuracy_score"
   ]
  },
  {
   "cell_type": "code",
   "execution_count": 10,
   "id": "1f332edb",
   "metadata": {},
   "outputs": [],
   "source": [
    "dataset = pd.read_csv('data.csv')\n",
    "x = dataset.iloc[:, [0, 1]].values\n",
    "y = dataset.iloc[:, 3].values"
   ]
  },
  {
   "cell_type": "code",
   "execution_count": 11,
   "id": "91f0e711",
   "metadata": {},
   "outputs": [],
   "source": [
    "xtrain, xtest, ytrain, ytest = train_test_split(x, y, test_size=0.5, random_state=0)\n",
    "sc_x = StandardScaler()\n",
    "xtrain = sc_x.fit_transform(xtrain)\n",
    "xtest = sc_x.transform(xtest)"
   ]
  },
  {
   "cell_type": "code",
   "execution_count": 12,
   "id": "381ad47c",
   "metadata": {},
   "outputs": [],
   "source": [
    "classifiers = {\n",
    "    'Logistic Regression': LogisticRegression(),\n",
    "    'Decision Tree': DecisionTreeClassifier(),\n",
    "    'Random Forest': RandomForestClassifier(),\n",
    "    'KNN': KNeighborsClassifier(),\n",
    "    'SVM': SVC(probability=True)\n",
    "}"
   ]
  },
  {
   "cell_type": "code",
   "execution_count": 13,
   "id": "ff42e59c",
   "metadata": {},
   "outputs": [],
   "source": [
    "accuracies = {}\n",
    "for name, classifier in classifiers.items():\n",
    "    classifier.fit(xtrain, ytrain)  \n",
    "    y_pred = classifier.predict(xtest)  \n",
    "    accuracy = accuracy_score(ytest, y_pred) \n",
    "    accuracies[name] = accuracy"
   ]
  },
  {
   "cell_type": "code",
   "execution_count": 14,
   "id": "1d28d1aa",
   "metadata": {},
   "outputs": [
    {
     "name": "stdout",
     "output_type": "stream",
     "text": [
      "Accuracies:\n",
      "Logistic Regression: 0.90\n",
      "Decision Tree: 0.83\n",
      "Random Forest: 0.83\n",
      "KNN: 0.87\n",
      "SVM: 0.97\n"
     ]
    }
   ],
   "source": [
    "print(\"Accuracies:\")\n",
    "for name, accuracy in accuracies.items():\n",
    "    print(f\"{name}: {accuracy:.2f}\")\n"
   ]
  },
  {
   "cell_type": "code",
   "execution_count": 15,
   "id": "5d740fac",
   "metadata": {},
   "outputs": [],
   "source": [
    "best_classifier_name = max(accuracies, key=accuracies.get)\n",
    "best_classifier = classifiers[best_classifier_name]"
   ]
  },
  {
   "cell_type": "code",
   "execution_count": 16,
   "id": "4de16419",
   "metadata": {},
   "outputs": [],
   "source": [
    "y_prob = best_classifier.predict_proba(xtest)[:, 1]  \n",
    "threshold = 0.5\n",
    "percentage_schizophrenia = np.mean(y_prob > threshold) * 100 "
   ]
  },
  {
   "cell_type": "code",
   "execution_count": 17,
   "id": "c9f2c4f9",
   "metadata": {},
   "outputs": [
    {
     "name": "stdout",
     "output_type": "stream",
     "text": [
      "The percentage likelihood of suffering from schizophrenia using SVM is: 63.33%\n"
     ]
    }
   ],
   "source": [
    "print(f\"The percentage likelihood of suffering from schizophrenia using {best_classifier_name} is: {percentage_schizophrenia:.2f}%\")"
   ]
  },
  {
   "cell_type": "code",
   "execution_count": null,
   "id": "90ccd134",
   "metadata": {},
   "outputs": [],
   "source": []
  },
  {
   "cell_type": "code",
   "execution_count": null,
   "id": "6037e3f6",
   "metadata": {},
   "outputs": [],
   "source": []
  }
 ],
 "metadata": {
  "kernelspec": {
   "display_name": "Python 3 (ipykernel)",
   "language": "python",
   "name": "python3"
  },
  "language_info": {
   "codemirror_mode": {
    "name": "ipython",
    "version": 3
   },
   "file_extension": ".py",
   "mimetype": "text/x-python",
   "name": "python",
   "nbconvert_exporter": "python",
   "pygments_lexer": "ipython3",
   "version": "3.10.9"
  }
 },
 "nbformat": 4,
 "nbformat_minor": 5
}
